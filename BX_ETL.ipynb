{
 "cells": [
  {
   "cell_type": "code",
   "execution_count": 1,
   "id": "41fe6512",
   "metadata": {},
   "outputs": [],
   "source": [
    "# Importing Dependencies\n",
    "import pandas as pd\n",
    "import matplotlib.pyplot as plt\n",
    "from surprise import Dataset, Reader\n",
    "from surprise.model_selection import train_test_split\n",
    "from surprise import SVD\n",
    "from surprise import accuracy\n",
    "import threadpoolctl\n",
    "from threadpoolctl import threadpool_limits"
   ]
  },
  {
   "cell_type": "code",
   "execution_count": 2,
   "id": "81a106ef",
   "metadata": {},
   "outputs": [],
   "source": [
    "# Step 1: Data Loading"
   ]
  },
  {
   "cell_type": "code",
   "execution_count": 3,
   "id": "6ff2bcbe",
   "metadata": {
    "scrolled": false
   },
   "outputs": [
    {
     "name": "stdout",
     "output_type": "stream",
     "text": [
      "   User-ID                            Location   Age\n",
      "0        1                  nyc, new york, usa   NaN\n",
      "1        2           stockton, california, usa  18.0\n",
      "2        3     moscow, yukon territory, russia   NaN\n",
      "3        4           porto, v.n.gaia, portugal  17.0\n",
      "4        5  farnborough, hants, united kingdom   NaN\n",
      "         ISBN                                         Book-Title  \\\n",
      "0  0195153448                                Classical Mythology   \n",
      "1  0002005018                                       Clara Callan   \n",
      "2  0060973129                               Decision in Normandy   \n",
      "3  0374157065  Flu: The Story of the Great Influenza Pandemic...   \n",
      "4  0393045218                             The Mummies of Urumchi   \n",
      "\n",
      "            Book-Author  Year-Of-Publication                   Publisher  \\\n",
      "0    Mark P. O. Morford                 2002     Oxford University Press   \n",
      "1  Richard Bruce Wright                 2001       HarperFlamingo Canada   \n",
      "2          Carlo D'Este                 1991             HarperPerennial   \n",
      "3      Gina Bari Kolata                 1999        Farrar Straus Giroux   \n",
      "4       E. J. W. Barber                 1999  W. W. Norton &amp; Company   \n",
      "\n",
      "                                         Image-URL-S  \\\n",
      "0  http://images.amazon.com/images/P/0195153448.0...   \n",
      "1  http://images.amazon.com/images/P/0002005018.0...   \n",
      "2  http://images.amazon.com/images/P/0060973129.0...   \n",
      "3  http://images.amazon.com/images/P/0374157065.0...   \n",
      "4  http://images.amazon.com/images/P/0393045218.0...   \n",
      "\n",
      "                                         Image-URL-M  \\\n",
      "0  http://images.amazon.com/images/P/0195153448.0...   \n",
      "1  http://images.amazon.com/images/P/0002005018.0...   \n",
      "2  http://images.amazon.com/images/P/0060973129.0...   \n",
      "3  http://images.amazon.com/images/P/0374157065.0...   \n",
      "4  http://images.amazon.com/images/P/0393045218.0...   \n",
      "\n",
      "                                         Image-URL-L  \n",
      "0  http://images.amazon.com/images/P/0195153448.0...  \n",
      "1  http://images.amazon.com/images/P/0002005018.0...  \n",
      "2  http://images.amazon.com/images/P/0060973129.0...  \n",
      "3  http://images.amazon.com/images/P/0374157065.0...  \n",
      "4  http://images.amazon.com/images/P/0393045218.0...  \n",
      "   User-ID        ISBN  Book-Rating\n",
      "0   276725  034545104X            0\n",
      "1   276726  0155061224            5\n",
      "2   276727  0446520802            0\n",
      "3   276729  052165615X            3\n",
      "4   276729  0521795028            6\n"
     ]
    }
   ],
   "source": [
    "# Define a custom function to handle bad lines\n",
    "def handle_bad_lines(line):\n",
    "    # Count the number of fields in the line\n",
    "    num_fields = line.count(';') + 1\n",
    "    # Check if the number of fields is expected\n",
    "    if num_fields == 3:  # We expect three fields: User-ID, ISBN, and Book-Rating\n",
    "        return line\n",
    "    else:\n",
    "        return None\n",
    "\n",
    "# Load the CSV files into separate DataFrames\n",
    "BX_Users = pd.read_csv(\"BX-Users.csv\", sep=\";\", encoding=\"latin-1\", engine=\"python\", on_bad_lines=handle_bad_lines)\n",
    "BX_Books = pd.read_csv(\"BX-Books.csv\", sep=\";\", encoding=\"latin-1\", engine=\"python\", on_bad_lines=handle_bad_lines)\n",
    "\n",
    "# Load BX_Book_Ratings DataFrame with skipping the header row\n",
    "BX_Book_Ratings = pd.read_csv(\"BX-Book-Ratings.csv\", sep=\";\", encoding=\"latin-1\", engine=\"python\", on_bad_lines=handle_bad_lines, skiprows=1, names=[\"User-ID\", \"ISBN\", \"Book-Rating\"])\n",
    "\n",
    "# Drop rows with invalid data (if any)\n",
    "BX_Book_Ratings.dropna(subset=[\"User-ID\", \"ISBN\", \"Book-Rating\"], inplace=True)\n",
    "\n",
    "# Convert \"User-ID\" to integers\n",
    "BX_Book_Ratings[\"User-ID\"] = BX_Book_Ratings[\"User-ID\"].astype(int)\n",
    "\n",
    "# Extract ISBN from the loaded data\n",
    "BX_Book_Ratings[\"ISBN\"] = BX_Book_Ratings[\"ISBN\"].str.strip('\"')\n",
    "\n",
    "# Display sample data from each DataFrame to ensure successful loading\n",
    "print(BX_Users.head())\n",
    "print(BX_Books.head())\n",
    "print(BX_Book_Ratings.head())"
   ]
  },
  {
   "cell_type": "code",
   "execution_count": 4,
   "id": "99cbfd69",
   "metadata": {},
   "outputs": [],
   "source": [
    "# Step 2: Data Understanding and Exploration"
   ]
  },
  {
   "cell_type": "code",
   "execution_count": 5,
   "id": "a9192659",
   "metadata": {},
   "outputs": [
    {
     "name": "stdout",
     "output_type": "stream",
     "text": [
      "<class 'pandas.core.frame.DataFrame'>\n",
      "RangeIndex: 278177 entries, 0 to 278176\n",
      "Data columns (total 3 columns):\n",
      " #   Column    Non-Null Count   Dtype  \n",
      "---  ------    --------------   -----  \n",
      " 0   User-ID   278177 non-null  int64  \n",
      " 1   Location  278177 non-null  object \n",
      " 2   Age       167669 non-null  float64\n",
      "dtypes: float64(1), int64(1), object(1)\n",
      "memory usage: 6.4+ MB\n",
      "<class 'pandas.core.frame.DataFrame'>\n",
      "RangeIndex: 270491 entries, 0 to 270490\n",
      "Data columns (total 8 columns):\n",
      " #   Column               Non-Null Count   Dtype \n",
      "---  ------               --------------   ----- \n",
      " 0   ISBN                 270491 non-null  object\n",
      " 1   Book-Title           270491 non-null  object\n",
      " 2   Book-Author          270490 non-null  object\n",
      " 3   Year-Of-Publication  270491 non-null  int64 \n",
      " 4   Publisher            270489 non-null  object\n",
      " 5   Image-URL-S          270491 non-null  object\n",
      " 6   Image-URL-M          270491 non-null  object\n",
      " 7   Image-URL-L          270491 non-null  object\n",
      "dtypes: int64(1), object(7)\n",
      "memory usage: 16.5+ MB\n",
      "<class 'pandas.core.frame.DataFrame'>\n",
      "RangeIndex: 1149766 entries, 0 to 1149765\n",
      "Data columns (total 3 columns):\n",
      " #   Column       Non-Null Count    Dtype \n",
      "---  ------       --------------    ----- \n",
      " 0   User-ID      1149766 non-null  int64 \n",
      " 1   ISBN         1149766 non-null  object\n",
      " 2   Book-Rating  1149766 non-null  int64 \n",
      "dtypes: int64(2), object(1)\n",
      "memory usage: 26.3+ MB\n",
      "\n",
      "Top 10 Most Popular Books:\n",
      "0971880107    2502\n",
      "0316666343    1295\n",
      "0385504209     883\n",
      "0060928336     732\n",
      "0312195516     723\n",
      "044023722X     647\n",
      "0679781587     639\n",
      "0142001740     615\n",
      "067976402X     614\n",
      "0671027360     586\n",
      "Name: ISBN, dtype: int64\n",
      "\n",
      "Top 10 Most Popular Authors:\n",
      "Agatha Christie        631\n",
      "William Shakespeare    567\n",
      "Stephen King           523\n",
      "Ann M. Martin          423\n",
      "Francine Pascal        372\n",
      "Carolyn Keene          371\n",
      "Isaac Asimov           329\n",
      "Nora Roberts           315\n",
      "Barbara Cartland       307\n",
      "Charles Dickens        302\n",
      "Name: Book-Author, dtype: int64\n",
      "\n",
      "Top 10 Most Popular Publishers:\n",
      "Harlequin                   7531\n",
      "Silhouette                  4219\n",
      "Pocket                      3894\n",
      "Ballantine Books            3777\n",
      "Bantam Books                3637\n",
      "Scholastic                  3158\n",
      "Simon &amp; Schuster        2963\n",
      "Penguin Books               2839\n",
      "Berkley Publishing Group    2767\n",
      "Warner Books                2726\n",
      "Name: Publisher, dtype: int64\n"
     ]
    },
    {
     "data": {
      "text/plain": [
       "count    167669.000000\n",
       "mean         34.751797\n",
       "std          14.430984\n",
       "min           0.000000\n",
       "25%          24.000000\n",
       "50%          32.000000\n",
       "75%          44.000000\n",
       "max         244.000000\n",
       "Name: Age, dtype: float64"
      ]
     },
     "execution_count": 5,
     "metadata": {},
     "output_type": "execute_result"
    }
   ],
   "source": [
    "# Check the structure and data types of each DataFrame\n",
    "BX_Users.info()\n",
    "BX_Books.info()\n",
    "BX_Book_Ratings.info()\n",
    "\n",
    "# Check for missing values\n",
    "BX_Users.isnull().sum()\n",
    "BX_Books.isnull().sum()\n",
    "BX_Book_Ratings.isnull().sum()\n",
    "\n",
    "# Explore the distribution of ratings in BX_Book_Ratings\n",
    "BX_Book_Ratings[\"Book-Rating\"].value_counts()\n",
    "\n",
    "# Explore popular books, authors, and publishers in BX_Books\n",
    "popular_books = BX_Book_Ratings[\"ISBN\"].value_counts().head(10)\n",
    "popular_authors = BX_Books[\"Book-Author\"].value_counts().head(10)\n",
    "popular_publishers = BX_Books[\"Publisher\"].value_counts().head(10)\n",
    "\n",
    "print(\"\\nTop 10 Most Popular Books:\")\n",
    "print(popular_books)\n",
    "\n",
    "print(\"\\nTop 10 Most Popular Authors:\")\n",
    "print(popular_authors)\n",
    "\n",
    "print(\"\\nTop 10 Most Popular Publishers:\")\n",
    "print(popular_publishers)\n",
    "\n",
    "# Analyze demographic information in BX_Users\n",
    "BX_Users[\"Age\"].describe()"
   ]
  },
  {
   "cell_type": "code",
   "execution_count": 6,
   "id": "5c68a1e0",
   "metadata": {},
   "outputs": [],
   "source": [
    "# Step 3: Data Preprocessing"
   ]
  },
  {
   "cell_type": "code",
   "execution_count": 7,
   "id": "94938aa8",
   "metadata": {},
   "outputs": [],
   "source": [
    "# Remove irrelevant columns from BX_Users and BX_Books\n",
    "BX_Users = BX_Users.drop(columns=[\"Location\"])\n",
    "BX_Books = BX_Books.drop(columns=[\"Image-URL-S\", \"Image-URL-M\", \"Image-URL-L\"])\n",
    "\n",
    "# Handle missing age values by filling with the mean age\n",
    "mean_age = BX_Users[\"Age\"].mean()\n",
    "BX_Users[\"Age\"] = BX_Users[\"Age\"].fillna(mean_age)\n",
    "\n",
    "# Convert age to numeric values\n",
    "BX_Users[\"Age\"] = pd.to_numeric(BX_Users[\"Age\"], errors=\"coerce\")"
   ]
  },
  {
   "cell_type": "code",
   "execution_count": 8,
   "id": "41f98a78",
   "metadata": {},
   "outputs": [],
   "source": [
    "# Step 4: Exploratory Data Analysis (EDA)"
   ]
  },
  {
   "cell_type": "code",
   "execution_count": 9,
   "id": "3cc37aca",
   "metadata": {
    "scrolled": true
   },
   "outputs": [
    {
     "data": {
      "image/png": "[encoded data removed]",
      "text/plain": [
       "<Figure size 640x480 with 1 Axes>"
      ]
     },
     "metadata": {},
     "output_type": "display_data"
    },
    {
     "data": {
      "image/png": "[encoded data removed]",
      "text/plain": [
       "<Figure size 640x480 with 1 Axes>"
      ]
     },
     "metadata": {},
     "output_type": "display_data"
    }
   ],
   "source": [
    "# Plot the distribution of book ratings in BX_Book_Ratings\n",
    "plt.hist(BX_Book_Ratings[\"Book-Rating\"], bins=10, range=(0, 10))\n",
    "plt.xlabel(\"Book Rating\")\n",
    "plt.ylabel(\"Frequency\")\n",
    "plt.title(\"Distribution of Book Ratings\")\n",
    "plt.show()\n",
    "\n",
    "# Explore demographic information (age distribution, user locations, etc.)\n",
    "# Age distribution of users\n",
    "plt.hist(BX_Users[\"Age\"], bins=30, range=(0, 100))\n",
    "plt.xlabel(\"Age\")\n",
    "plt.ylabel(\"Frequency\")\n",
    "plt.title(\"Age Distribution of Users\")\n",
    "plt.show()"
   ]
  },
  {
   "cell_type": "code",
   "execution_count": 10,
   "id": "46348732",
   "metadata": {},
   "outputs": [],
   "source": [
    "# Step 5: Building a Recommendation System"
   ]
  },
  {
   "cell_type": "code",
   "execution_count": 11,
   "id": "63e92540",
   "metadata": {},
   "outputs": [
    {
     "name": "stdout",
     "output_type": "stream",
     "text": [
      "RMSE: 3.4991\n"
     ]
    },
    {
     "data": {
      "text/plain": [
       "3.4990989258440943"
      ]
     },
     "execution_count": 11,
     "metadata": {},
     "output_type": "execute_result"
    }
   ],
   "source": [
    "# Create a Surprise Dataset from BX_Book_Ratings\n",
    "reader = Reader(rating_scale=(0, 10))\n",
    "data = Dataset.load_from_df(BX_Book_Ratings[[\"User-ID\", \"ISBN\", \"Book-Rating\"]], reader)\n",
    "\n",
    "# Split the data into training and testing sets\n",
    "trainset, testset = train_test_split(data, test_size=0.2)\n",
    "\n",
    "# Train the SVD (Singular Value Decomposition) algorithm on the training data\n",
    "algo = SVD()\n",
    "algo.fit(trainset)\n",
    "\n",
    "# Predict ratings for the test set\n",
    "predictions = algo.test(testset)\n",
    "\n",
    "# Evaluate the recommendation system using RMSE (Root Mean Squared Error)\n",
    "accuracy.rmse(predictions)"
   ]
  },
  {
   "cell_type": "code",
   "execution_count": 12,
   "id": "f2753bb7",
   "metadata": {},
   "outputs": [],
   "source": [
    "# Step 6: Personalized Book Recommendations"
   ]
  },
  {
   "cell_type": "code",
   "execution_count": 13,
   "id": "21310a0b",
   "metadata": {},
   "outputs": [
    {
     "name": "stdout",
     "output_type": "stream",
     "text": [
      "[('1844262553', 6.649078439104596), ('0590353403', 6.279109538383311), ('0156528207', 6.020008129741474), ('0615116426', 5.94066276593406), ('0064440508', 5.72583774294977)]\n"
     ]
    }
   ],
   "source": [
    "# Implement a function to provide personalized book recommendations based on user input\n",
    "def get_personalized_recommendations(user_id, num_recommendations=5):\n",
    "    # Get a list of books the user has not rated\n",
    "    user_books = BX_Book_Ratings[BX_Book_Ratings[\"User-ID\"] == user_id][\"ISBN\"]\n",
    "    unrated_books = BX_Books[~BX_Books[\"ISBN\"].isin(user_books)]\n",
    "    \n",
    "    # Predict ratings for unrated books\n",
    "    predictions = []\n",
    "    for isbn in unrated_books[\"ISBN\"]:\n",
    "        prediction = algo.predict(user_id, isbn)\n",
    "        predictions.append((isbn, prediction.est))\n",
    "    \n",
    "    # Sort predictions by rating in descending order\n",
    "    recommendations = sorted(predictions, key=lambda x: x[1], reverse=True)[:num_recommendations]\n",
    "    \n",
    "    # Return the top recommended books\n",
    "    return recommendations\n",
    "\n",
    "# Example usage:\n",
    "user_id = 100\n",
    "recommended_books = get_personalized_recommendations(user_id)\n",
    "print(recommended_books)"
   ]
  },
  {
   "cell_type": "code",
   "execution_count": 15,
   "id": "1ff1f08d",
   "metadata": {},
   "outputs": [
    {
     "name": "stderr",
     "output_type": "stream",
     "text": [
      "/Users/kamiluck/opt/anaconda3/lib/python3.9/site-packages/sklearn/cluster/_kmeans.py:1412: FutureWarning: The default value of `n_init` will change from 10 to 'auto' in 1.4. Set the value of `n_init` explicitly to suppress the warning\n",
      "  super()._check_params_vs_input(X, default_n_init=10)\n",
      "/Users/kamiluck/opt/anaconda3/lib/python3.9/site-packages/sklearn/cluster/_kmeans.py:1412: FutureWarning: The default value of `n_init` will change from 10 to 'auto' in 1.4. Set the value of `n_init` explicitly to suppress the warning\n",
      "  super()._check_params_vs_input(X, default_n_init=10)\n",
      "/Users/kamiluck/opt/anaconda3/lib/python3.9/site-packages/sklearn/cluster/_kmeans.py:1412: FutureWarning: The default value of `n_init` will change from 10 to 'auto' in 1.4. Set the value of `n_init` explicitly to suppress the warning\n",
      "  super()._check_params_vs_input(X, default_n_init=10)\n",
      "/Users/kamiluck/opt/anaconda3/lib/python3.9/site-packages/sklearn/cluster/_kmeans.py:1412: FutureWarning: The default value of `n_init` will change from 10 to 'auto' in 1.4. Set the value of `n_init` explicitly to suppress the warning\n",
      "  super()._check_params_vs_input(X, default_n_init=10)\n",
      "/Users/kamiluck/opt/anaconda3/lib/python3.9/site-packages/sklearn/cluster/_kmeans.py:1412: FutureWarning: The default value of `n_init` will change from 10 to 'auto' in 1.4. Set the value of `n_init` explicitly to suppress the warning\n",
      "  super()._check_params_vs_input(X, default_n_init=10)\n",
      "/Users/kamiluck/opt/anaconda3/lib/python3.9/site-packages/sklearn/cluster/_kmeans.py:1412: FutureWarning: The default value of `n_init` will change from 10 to 'auto' in 1.4. Set the value of `n_init` explicitly to suppress the warning\n",
      "  super()._check_params_vs_input(X, default_n_init=10)\n",
      "/Users/kamiluck/opt/anaconda3/lib/python3.9/site-packages/sklearn/cluster/_kmeans.py:1412: FutureWarning: The default value of `n_init` will change from 10 to 'auto' in 1.4. Set the value of `n_init` explicitly to suppress the warning\n",
      "  super()._check_params_vs_input(X, default_n_init=10)\n",
      "/Users/kamiluck/opt/anaconda3/lib/python3.9/site-packages/sklearn/cluster/_kmeans.py:1412: FutureWarning: The default value of `n_init` will change from 10 to 'auto' in 1.4. Set the value of `n_init` explicitly to suppress the warning\n",
      "  super()._check_params_vs_input(X, default_n_init=10)\n",
      "/Users/kamiluck/opt/anaconda3/lib/python3.9/site-packages/sklearn/cluster/_kmeans.py:1412: FutureWarning: The default value of `n_init` will change from 10 to 'auto' in 1.4. Set the value of `n_init` explicitly to suppress the warning\n",
      "  super()._check_params_vs_input(X, default_n_init=10)\n",
      "/Users/kamiluck/opt/anaconda3/lib/python3.9/site-packages/sklearn/cluster/_kmeans.py:1412: FutureWarning: The default value of `n_init` will change from 10 to 'auto' in 1.4. Set the value of `n_init` explicitly to suppress the warning\n",
      "  super()._check_params_vs_input(X, default_n_init=10)\n"
     ]
    },
    {
     "data": {
      "image/png": "[encoded data removed]",
      "text/plain": [
       "<Figure size 640x480 with 1 Axes>"
      ]
     },
     "metadata": {},
     "output_type": "display_data"
    },
    {
     "name": "stderr",
     "output_type": "stream",
     "text": [
      "/Users/kamiluck/opt/anaconda3/lib/python3.9/site-packages/sklearn/cluster/_kmeans.py:1412: FutureWarning: The default value of `n_init` will change from 10 to 'auto' in 1.4. Set the value of `n_init` explicitly to suppress the warning\n",
      "  super()._check_params_vs_input(X, default_n_init=10)\n"
     ]
    },
    {
     "name": "stdout",
     "output_type": "stream",
     "text": [
      "\n",
      "Cluster 1 - Number of Books: 265880\n",
      "0                                  Classical Mythology\n",
      "1                                         Clara Callan\n",
      "2                                 Decision in Normandy\n",
      "3    Flu: The Story of the Great Influenza Pandemic...\n",
      "4                               The Mummies of Urumchi\n",
      "Name: Book-Title, dtype: object\n",
      "0      Mark P. O. Morford\n",
      "1    Richard Bruce Wright\n",
      "2            Carlo D'Este\n",
      "3        Gina Bari Kolata\n",
      "4         E. J. W. Barber\n",
      "Name: Book-Author, dtype: object\n",
      "0    2002\n",
      "1    2001\n",
      "2    1991\n",
      "3    1999\n",
      "4    1999\n",
      "Name: Year-Of-Publication, dtype: int64\n",
      "\n",
      "Cluster 2 - Number of Books: 4611\n",
      "176                                     Kabale Und Liebe\n",
      "188                              Die Liebe in Den Zelten\n",
      "288                          Poisonwood Bible Edition Uk\n",
      "351         Herr Der Fliegen (Fiction, Poetry and Drama)\n",
      "542    Biblioteca Universale Rizzoli: Sulla Sponda De...\n",
      "Name: Book-Title, dtype: object\n",
      "176                  Schiller\n",
      "188    Gabriel Garcia Marquez\n",
      "288        Barbara Kingsolver\n",
      "351                   Golding\n",
      "542                  P Coelho\n",
      "Name: Book-Author, dtype: object\n",
      "176    0\n",
      "188    0\n",
      "288    0\n",
      "351    0\n",
      "542    0\n",
      "Name: Year-Of-Publication, dtype: int64\n"
     ]
    }
   ],
   "source": [
    "# Step 7: Book Clustering (Optional)\n",
    "\n",
    "# Perform book clustering using relevant attributes from BX_Books\n",
    "# (e.g., book genres, book titles, etc.)\n",
    "\n",
    "# For example, we can use KMeans clustering based on the Year-Of-Publication and other numeric attributes\n",
    "\n",
    "from sklearn.cluster import KMeans\n",
    "from sklearn.preprocessing import StandardScaler\n",
    "\n",
    "# Select relevant attributes for clustering\n",
    "selected_attributes = [\"Year-Of-Publication\"]\n",
    "\n",
    "# Remove rows with missing values for selected attributes\n",
    "selected_data = BX_Books[selected_attributes].dropna()\n",
    "\n",
    "# Standardize the data before clustering\n",
    "scaler = StandardScaler()\n",
    "scaled_data = scaler.fit_transform(selected_data)\n",
    "\n",
    "# Determine the optimal number of clusters using the elbow method\n",
    "inertia_values = []\n",
    "k_range = range(1, 11)\n",
    "for k in k_range:\n",
    "    kmeans = KMeans(n_clusters=k, random_state=42)\n",
    "    kmeans.fit(scaled_data)\n",
    "    inertia_values.append(kmeans.inertia_)\n",
    "\n",
    "# Plot the elbow curve to identify the optimal number of clusters\n",
    "plt.plot(k_range, inertia_values, marker=\"o\")\n",
    "plt.xlabel(\"Number of Clusters (k)\")\n",
    "plt.ylabel(\"Inertia\")\n",
    "plt.title(\"Elbow Curve for KMeans Clustering\")\n",
    "plt.show()\n",
    "\n",
    "# Based on the elbow curve, choose the optimal number of clusters (k) and perform KMeans clustering\n",
    "k_optimal = 2\n",
    "kmeans = KMeans(n_clusters=k_optimal, random_state=42)\n",
    "clusters = kmeans.fit_predict(scaled_data)\n",
    "\n",
    "# Add the cluster labels to the DataFrame\n",
    "selected_data[\"Cluster\"] = clusters\n",
    "\n",
    "# Merge cluster labels back to the original DataFrame\n",
    "BX_Books_clustered = BX_Books.copy()\n",
    "BX_Books_clustered[\"Cluster\"] = selected_data[\"Cluster\"]\n",
    "\n",
    "# Explore the characteristics of each book cluster\n",
    "for cluster_id in range(k_optimal):\n",
    "    cluster_books = BX_Books_clustered[BX_Books_clustered[\"Cluster\"] == cluster_id]\n",
    "    print(f\"\\nCluster {cluster_id + 1} - Number of Books: {len(cluster_books)}\")\n",
    "    print(cluster_books[\"Book-Title\"].head())\n",
    "    print(cluster_books[\"Book-Author\"].head())\n",
    "    print(cluster_books[\"Year-Of-Publication\"].head())"
   ]
  },
  {
   "cell_type": "code",
   "execution_count": null,
   "id": "1712d8bf",
   "metadata": {},
   "outputs": [],
   "source": []
  }
 ],
 "metadata": {
  "kernelspec": {
   "display_name": "Python 3 (ipykernel)",
   "language": "python",
   "name": "python3"
  },
  "language_info": {
   "codemirror_mode": {
    "name": "ipython",
    "version": 3
   },
   "file_extension": ".py",
   "mimetype": "text/x-python",
   "name": "python",
   "nbconvert_exporter": "python",
   "pygments_lexer": "ipython3",
   "version": "3.9.13"
  }
 },
 "nbformat": 4,
 "nbformat_minor": 5
}
